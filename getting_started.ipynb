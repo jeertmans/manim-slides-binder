{
 "cells": [
  {
   "cell_type": "markdown",
   "id": "substantial-impact",
   "metadata": {},
   "source": [
    "# Welcome to Manim Slides!"
   ]
  },
  {
   "cell_type": "markdown",
   "id": "first-armenia",
   "metadata": {},
   "source": [
    "*Note: content of this notebok is highly inspired from [First Steps with Manim.ipynb](https://github.com/ManimCommunity/jupyter_examples/blob/e7e2ba307b0275970af9d589eebbd99f256ac7d2/First%20Steps%20with%20Manim.ipynb).*\n",
    "\n",
    "This is a temporary test environment in which you can play around with Manim Slides without the need of installing it locally. Some basic knowledge of Python is helpful! Keep in mind that this is a *temporary* environment, though: your changes will not be saved and cannot be shared with others. To save your work, you will need to download the notebook file (\"File > Download as > Notebook (.ipynb)\"). Enjoy!\n",
    "\n",
    "> *Useful resources:* [Manim Slides Documentation](https://eertmans.be/manim-slides), [Manim Documentation](https://docs.manim.community), [Manim Discord](https://discord.gg/mMRrZQW), [Manim Reddit](https://www.reddit.com/r/manim/)"
   ]
  },
  {
   "cell_type": "markdown",
   "id": "honest-cruise",
   "metadata": {},
   "source": [
    "## Setup"
   ]
  },
  {
   "cell_type": "markdown",
   "id": "governing-increase",
   "metadata": {},
   "source": [
    "We begin our short walkthrough by importing everything from the library. Run the following code cell to do so (focus the cell and hit the *Run* button above, or press `Shift`+`Enter` – you can find more information about how to navigate and work with Jupyter notebooks in the *Help* menu at the top of this page).\n",
    "\n",
    "The second line controls the maximum width used to display videos in this notebook, and the third line controls the verbosity of the log output. Feel free to adapt both of these settings to your liking."
   ]
  },
  {
   "cell_type": "code",
   "execution_count": null,
   "id": "wound-foundation",
   "metadata": {},
   "outputs": [],
   "source": [
    "from manim import *\n",
    "from manim_slides import *\n",
    "\n",
    "config.media_embed = True\n",
    "config.media_width = \"75%\"\n",
    "config.verbosity = \"WARNING\""
   ]
  },
  {
   "cell_type": "markdown",
   "id": "antique-knock",
   "metadata": {},
   "source": [
    "## Your first Slides"
   ]
  },
  {
   "cell_type": "markdown",
   "id": "drawn-dylan",
   "metadata": {},
   "source": [
    "Manim generates videos by rendering *Scenes*. Manim Slides offers a subclass to Manim's `Scene` class (and 3D variant) to help you generate slides from multiple video animations. Each slide is separated with a call\n",
    "to `self.next_slide()`.\n",
    " \n",
    "Below is a very simple example of how to generate slides directly inside your notebook."
   ]
  },
  {
   "cell_type": "code",
   "execution_count": null,
   "id": "complicated-retirement",
   "metadata": {},
   "outputs": [],
   "source": [
    "%%manim_slides --progress_bar None CircleToSquare --manim-slides controls=true\n",
    "\n",
    "class CircleToSquare(Slide):\n",
    "    def construct(self):\n",
    "        blue_circle = Circle(color=BLUE, fill_opacity=0.5)\n",
    "        green_square = Square(color=GREEN, fill_opacity=0.8)\n",
    "        self.play(Create(blue_circle))\n",
    "        self.next_slide()\n",
    "        \n",
    "        self.play(Transform(blue_circle, green_square))"
   ]
  },
  {
   "cell_type": "markdown",
   "id": "tutorial-kelly",
   "metadata": {},
   "source": [
    "`%%manim_slides` is actually a wrapper command around `%%manim`, so you can get most features from the `%%manim` magic. After calling `manim`, Manim Slides will call `manim slides convert` to generate the HTML output.\n",
    "\n",
    "The cell magic (i.e., double %%) also exists in line variant (i.e., single %):"
   ]
  },
  {
   "cell_type": "code",
   "execution_count": null,
   "id": "3459e42e",
   "metadata": {},
   "outputs": [],
   "source": [
    "%manim --help"
   ]
  },
  {
   "cell_type": "markdown",
   "id": "9c21ed8a",
   "metadata": {},
   "source": [
    "To pass arguments to Manim Slides' `convert` command, pass `--manim-slides` option first. Options specified after will be passed to `convert` exclusively."
   ]
  },
  {
   "cell_type": "code",
   "execution_count": null,
   "id": "b138c927",
   "metadata": {},
   "outputs": [],
   "source": [
    "%manim_slides --progress_bar None CircleToSquare --manim-slides slide_number='h/v'"
   ]
  },
  {
   "cell_type": "markdown",
   "id": "attractive-fight",
   "metadata": {},
   "source": [
    "## Other examples\n",
    "\n",
    "The Manim Slides documentation contains many useful examples to understand how to use this tool.\n",
    "On top of that, you can also read through Manim's documentation, as most scenes can be turned into slides\n",
    "just by replacing the `Scene` base class with `Slide`, and adding some calls to `self.next_slide()`\n",
    "at appropriate positions."
   ]
  }
 ],
 "metadata": {
  "kernelspec": {
   "display_name": "Python 3 (ipykernel)",
   "language": "python",
   "name": "python3"
  },
  "language_info": {
   "codemirror_mode": {
    "name": "ipython",
    "version": 3
   },
   "file_extension": ".py",
   "mimetype": "text/x-python",
   "name": "python",
   "nbconvert_exporter": "python",
   "pygments_lexer": "ipython3",
   "version": "3.10.12"
  }
 },
 "nbformat": 4,
 "nbformat_minor": 5
}
